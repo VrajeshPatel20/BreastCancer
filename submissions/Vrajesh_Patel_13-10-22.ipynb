{
 "cells": [
  {
   "cell_type": "code",
   "execution_count": 239,
   "id": "86decad3",
   "metadata": {},
   "outputs": [],
   "source": [
    "!pip install mlxtend -q"
   ]
  },
  {
   "cell_type": "code",
   "execution_count": 240,
   "id": "4c9c3250",
   "metadata": {},
   "outputs": [],
   "source": [
    "import pandas as pd\n",
    "import numpy as np\n",
    "\n",
    "#Loading the dataset\n",
    "header = [\"id number\",\"Clump Thickness\",\"Uniformity of Cell Size\",\"Uniformity of Cell Shape\",\"Marginal Adhesion\",\"Single Epithelial Cell Size\",\"Bare Nuclei\",\"Bland Chromatin\",\"Normal Nucleoli\",\"Mitoses\", \"Class\"]\n",
    "\n",
    "data = pd.read_csv(\"C:/Users/patel/OneDrive/Desktop/breast-cancer-wisconsin.csv\", names = header, index_col=\"id number\")"
   ]
  },
  {
   "cell_type": "code",
   "execution_count": 241,
   "id": "dd832197",
   "metadata": {},
   "outputs": [
    {
     "data": {
      "text/html": [
       "<div>\n",
       "<style scoped>\n",
       "    .dataframe tbody tr th:only-of-type {\n",
       "        vertical-align: middle;\n",
       "    }\n",
       "\n",
       "    .dataframe tbody tr th {\n",
       "        vertical-align: top;\n",
       "    }\n",
       "\n",
       "    .dataframe thead th {\n",
       "        text-align: right;\n",
       "    }\n",
       "</style>\n",
       "<table border=\"1\" class=\"dataframe\">\n",
       "  <thead>\n",
       "    <tr style=\"text-align: right;\">\n",
       "      <th></th>\n",
       "      <th>Clump Thickness</th>\n",
       "      <th>Uniformity of Cell Size</th>\n",
       "      <th>Uniformity of Cell Shape</th>\n",
       "      <th>Marginal Adhesion</th>\n",
       "      <th>Single Epithelial Cell Size</th>\n",
       "      <th>Bare Nuclei</th>\n",
       "      <th>Bland Chromatin</th>\n",
       "      <th>Normal Nucleoli</th>\n",
       "      <th>Mitoses</th>\n",
       "      <th>Class</th>\n",
       "    </tr>\n",
       "    <tr>\n",
       "      <th>id number</th>\n",
       "      <th></th>\n",
       "      <th></th>\n",
       "      <th></th>\n",
       "      <th></th>\n",
       "      <th></th>\n",
       "      <th></th>\n",
       "      <th></th>\n",
       "      <th></th>\n",
       "      <th></th>\n",
       "      <th></th>\n",
       "    </tr>\n",
       "  </thead>\n",
       "  <tbody>\n",
       "    <tr>\n",
       "      <th>1000025</th>\n",
       "      <td>5</td>\n",
       "      <td>1</td>\n",
       "      <td>1</td>\n",
       "      <td>1</td>\n",
       "      <td>2</td>\n",
       "      <td>1</td>\n",
       "      <td>3</td>\n",
       "      <td>1</td>\n",
       "      <td>1</td>\n",
       "      <td>2</td>\n",
       "    </tr>\n",
       "    <tr>\n",
       "      <th>1002945</th>\n",
       "      <td>5</td>\n",
       "      <td>4</td>\n",
       "      <td>4</td>\n",
       "      <td>5</td>\n",
       "      <td>7</td>\n",
       "      <td>10</td>\n",
       "      <td>3</td>\n",
       "      <td>2</td>\n",
       "      <td>1</td>\n",
       "      <td>2</td>\n",
       "    </tr>\n",
       "    <tr>\n",
       "      <th>1015425</th>\n",
       "      <td>3</td>\n",
       "      <td>1</td>\n",
       "      <td>1</td>\n",
       "      <td>1</td>\n",
       "      <td>2</td>\n",
       "      <td>2</td>\n",
       "      <td>3</td>\n",
       "      <td>1</td>\n",
       "      <td>1</td>\n",
       "      <td>2</td>\n",
       "    </tr>\n",
       "    <tr>\n",
       "      <th>1016277</th>\n",
       "      <td>6</td>\n",
       "      <td>8</td>\n",
       "      <td>8</td>\n",
       "      <td>1</td>\n",
       "      <td>3</td>\n",
       "      <td>4</td>\n",
       "      <td>3</td>\n",
       "      <td>7</td>\n",
       "      <td>1</td>\n",
       "      <td>2</td>\n",
       "    </tr>\n",
       "    <tr>\n",
       "      <th>1017023</th>\n",
       "      <td>4</td>\n",
       "      <td>1</td>\n",
       "      <td>1</td>\n",
       "      <td>3</td>\n",
       "      <td>2</td>\n",
       "      <td>1</td>\n",
       "      <td>3</td>\n",
       "      <td>1</td>\n",
       "      <td>1</td>\n",
       "      <td>2</td>\n",
       "    </tr>\n",
       "  </tbody>\n",
       "</table>\n",
       "</div>"
      ],
      "text/plain": [
       "           Clump Thickness  Uniformity of Cell Size  Uniformity of Cell Shape  \\\n",
       "id number                                                                       \n",
       "1000025                  5                        1                         1   \n",
       "1002945                  5                        4                         4   \n",
       "1015425                  3                        1                         1   \n",
       "1016277                  6                        8                         8   \n",
       "1017023                  4                        1                         1   \n",
       "\n",
       "           Marginal Adhesion  Single Epithelial Cell Size Bare Nuclei  \\\n",
       "id number                                                               \n",
       "1000025                    1                            2           1   \n",
       "1002945                    5                            7          10   \n",
       "1015425                    1                            2           2   \n",
       "1016277                    1                            3           4   \n",
       "1017023                    3                            2           1   \n",
       "\n",
       "           Bland Chromatin  Normal Nucleoli  Mitoses  Class  \n",
       "id number                                                    \n",
       "1000025                  3                1        1      2  \n",
       "1002945                  3                2        1      2  \n",
       "1015425                  3                1        1      2  \n",
       "1016277                  3                7        1      2  \n",
       "1017023                  3                1        1      2  "
      ]
     },
     "execution_count": 241,
     "metadata": {},
     "output_type": "execute_result"
    }
   ],
   "source": [
    "data.head()"
   ]
  },
  {
   "cell_type": "markdown",
   "id": "15d04b2b",
   "metadata": {},
   "source": [
    "# EDA"
   ]
  },
  {
   "cell_type": "markdown",
   "id": "7c617898",
   "metadata": {},
   "source": [
    "#### We use the box plots to identify the local mean, median max as well as to identify if there are any outliers in the data for individual class ( 2 or 4). Also, we can identify the trend of density and measure. For example in Clump Thickness we can see that most people have a clump thickness of 6 or under for people with Class 2 biopsied cell, comparatively people with class 3 biopsied cell have a higher thickness. Such trends can help us identify the variable that will have the most significant effect on the model."
   ]
  },
  {
   "cell_type": "code",
   "execution_count": 242,
   "id": "cb4c0a68",
   "metadata": {
    "scrolled": true
   },
   "outputs": [
    {
     "name": "stdout",
     "output_type": "stream",
     "text": [
      "<class 'pandas.core.frame.DataFrame'>\n",
      "Int64Index: 699 entries, 1000025 to 897471\n",
      "Data columns (total 10 columns):\n",
      " #   Column                       Non-Null Count  Dtype \n",
      "---  ------                       --------------  ----- \n",
      " 0   Clump Thickness              699 non-null    int64 \n",
      " 1   Uniformity of Cell Size      699 non-null    int64 \n",
      " 2   Uniformity of Cell Shape     699 non-null    int64 \n",
      " 3   Marginal Adhesion            699 non-null    int64 \n",
      " 4   Single Epithelial Cell Size  699 non-null    int64 \n",
      " 5   Bare Nuclei                  699 non-null    object\n",
      " 6   Bland Chromatin              699 non-null    int64 \n",
      " 7   Normal Nucleoli              699 non-null    int64 \n",
      " 8   Mitoses                      699 non-null    int64 \n",
      " 9   Class                        699 non-null    int64 \n",
      "dtypes: int64(9), object(1)\n",
      "memory usage: 60.1+ KB\n"
     ]
    }
   ],
   "source": [
    "# Understanding the data to see what data types we have, if we need to reolve any null value errors and so on\n",
    "data.info()"
   ]
  },
  {
   "cell_type": "code",
   "execution_count": 243,
   "id": "fedbaf10",
   "metadata": {},
   "outputs": [
    {
     "data": {
      "text/plain": [
       "array(['1', '10', '2', '4', '3', '9', '7', '?', '5', '8', '6'],\n",
       "      dtype=object)"
      ]
     },
     "execution_count": 243,
     "metadata": {},
     "output_type": "execute_result"
    }
   ],
   "source": [
    "# Trying to why does the data type of the variable differs from the rest\n",
    "data['Bare Nuclei'].unique()"
   ]
  },
  {
   "cell_type": "code",
   "execution_count": 244,
   "id": "36ea7be1",
   "metadata": {},
   "outputs": [
    {
     "name": "stdout",
     "output_type": "stream",
     "text": [
      "Values Missing are:  16\n"
     ]
    }
   ],
   "source": [
    "# Now lets find out how many values are missing here to better understand our dataset\n",
    "print(\"Values Missing are: \",len(data[data['Bare Nuclei']==\"?\"]))\n",
    "# For better functionality and to avoid more tokenizing the data while performing analysis lets replace \"?\" with \"-1\" \n",
    "# for the missing data.\n",
    "data = data.replace(\"?\",\"0\")\n",
    "data = data.astype({\"Bare Nuclei\":\"int64\"})"
   ]
  },
  {
   "cell_type": "code",
   "execution_count": 245,
   "id": "9fc662ce",
   "metadata": {
    "scrolled": true
   },
   "outputs": [
    {
     "name": "stdout",
     "output_type": "stream",
     "text": [
      "<class 'pandas.core.frame.DataFrame'>\n",
      "Int64Index: 699 entries, 1000025 to 897471\n",
      "Data columns (total 10 columns):\n",
      " #   Column                       Non-Null Count  Dtype\n",
      "---  ------                       --------------  -----\n",
      " 0   Clump Thickness              699 non-null    int64\n",
      " 1   Uniformity of Cell Size      699 non-null    int64\n",
      " 2   Uniformity of Cell Shape     699 non-null    int64\n",
      " 3   Marginal Adhesion            699 non-null    int64\n",
      " 4   Single Epithelial Cell Size  699 non-null    int64\n",
      " 5   Bare Nuclei                  699 non-null    int64\n",
      " 6   Bland Chromatin              699 non-null    int64\n",
      " 7   Normal Nucleoli              699 non-null    int64\n",
      " 8   Mitoses                      699 non-null    int64\n",
      " 9   Class                        699 non-null    int64\n",
      "dtypes: int64(10)\n",
      "memory usage: 60.1 KB\n"
     ]
    },
    {
     "data": {
      "text/plain": [
       "(None,\n",
       "        Clump Thickness  Uniformity of Cell Size  Uniformity of Cell Shape  \\\n",
       " count       699.000000               699.000000                699.000000   \n",
       " mean          4.417740                 3.134478                  3.207439   \n",
       " std           2.815741                 3.051459                  2.971913   \n",
       " min           1.000000                 1.000000                  1.000000   \n",
       " 25%           2.000000                 1.000000                  1.000000   \n",
       " 50%           4.000000                 1.000000                  1.000000   \n",
       " 75%           6.000000                 5.000000                  5.000000   \n",
       " max          10.000000                10.000000                 10.000000   \n",
       " \n",
       "        Marginal Adhesion  Single Epithelial Cell Size  Bare Nuclei  \\\n",
       " count         699.000000                   699.000000   699.000000   \n",
       " mean            2.806867                     3.216023     3.463519   \n",
       " std             2.855379                     2.214300     3.640708   \n",
       " min             1.000000                     1.000000     0.000000   \n",
       " 25%             1.000000                     2.000000     1.000000   \n",
       " 50%             1.000000                     2.000000     1.000000   \n",
       " 75%             4.000000                     4.000000     5.000000   \n",
       " max            10.000000                    10.000000    10.000000   \n",
       " \n",
       "        Bland Chromatin  Normal Nucleoli     Mitoses       Class  \n",
       " count       699.000000       699.000000  699.000000  699.000000  \n",
       " mean          3.437768         2.866953    1.589413    2.689557  \n",
       " std           2.438364         3.053634    1.715078    0.951273  \n",
       " min           1.000000         1.000000    1.000000    2.000000  \n",
       " 25%           2.000000         1.000000    1.000000    2.000000  \n",
       " 50%           3.000000         1.000000    1.000000    2.000000  \n",
       " 75%           5.000000         4.000000    1.000000    4.000000  \n",
       " max          10.000000        10.000000   10.000000    4.000000  )"
      ]
     },
     "execution_count": 245,
     "metadata": {},
     "output_type": "execute_result"
    }
   ],
   "source": [
    "data.info(),data.describe()"
   ]
  },
  {
   "cell_type": "code",
   "execution_count": 296,
   "id": "d38be2df",
   "metadata": {},
   "outputs": [
    {
     "data": {
      "image/png": "[encoded data removed]",
      "text/plain": [
       "<Figure size 432x288 with 1 Axes>"
      ]
     },
     "metadata": {
      "needs_background": "light"
     },
     "output_type": "display_data"
    }
   ],
   "source": [
    "# Checking if the dataset is skewed \n",
    "# Based on the graph below we can observe that the we have more data for type 2, than for type 4\n",
    "# We can either use regularization or SMOTE library to remedy this if it poses a problem while training the model.\n",
    "# However, the ratio is approx 2:1 and hence should not pose an issue\n",
    "sns.countplot(x = data['Class'], palette=[\"green\", \"red\"]);"
   ]
  },
  {
   "cell_type": "code",
   "execution_count": 247,
   "id": "636aceab",
   "metadata": {},
   "outputs": [],
   "source": [
    "# All the data we have is Categorical, which means we can either perform chi square test to find out \n",
    "# the covariance between the variables."
   ]
  },
  {
   "cell_type": "code",
   "execution_count": 248,
   "id": "62953afc",
   "metadata": {},
   "outputs": [
    {
     "data": {
      "text/html": [
       "<div>\n",
       "<style scoped>\n",
       "    .dataframe tbody tr th:only-of-type {\n",
       "        vertical-align: middle;\n",
       "    }\n",
       "\n",
       "    .dataframe tbody tr th {\n",
       "        vertical-align: top;\n",
       "    }\n",
       "\n",
       "    .dataframe thead th {\n",
       "        text-align: right;\n",
       "    }\n",
       "</style>\n",
       "<table border=\"1\" class=\"dataframe\">\n",
       "  <thead>\n",
       "    <tr style=\"text-align: right;\">\n",
       "      <th></th>\n",
       "      <th>Clump Thickness</th>\n",
       "      <th>Uniformity of Cell Size</th>\n",
       "      <th>Uniformity of Cell Shape</th>\n",
       "      <th>Marginal Adhesion</th>\n",
       "      <th>Single Epithelial Cell Size</th>\n",
       "      <th>Bare Nuclei</th>\n",
       "      <th>Bland Chromatin</th>\n",
       "      <th>Normal Nucleoli</th>\n",
       "      <th>Mitoses</th>\n",
       "      <th>Class</th>\n",
       "    </tr>\n",
       "  </thead>\n",
       "  <tbody>\n",
       "    <tr>\n",
       "      <th>Clump Thickness</th>\n",
       "      <td>1.000000</td>\n",
       "      <td>0.644913</td>\n",
       "      <td>0.654589</td>\n",
       "      <td>0.486356</td>\n",
       "      <td>0.521816</td>\n",
       "      <td>0.589296</td>\n",
       "      <td>0.558428</td>\n",
       "      <td>0.535835</td>\n",
       "      <td>0.350034</td>\n",
       "      <td>0.716001</td>\n",
       "    </tr>\n",
       "    <tr>\n",
       "      <th>Uniformity of Cell Size</th>\n",
       "      <td>0.644913</td>\n",
       "      <td>1.000000</td>\n",
       "      <td>0.906882</td>\n",
       "      <td>0.705582</td>\n",
       "      <td>0.751799</td>\n",
       "      <td>0.684569</td>\n",
       "      <td>0.755721</td>\n",
       "      <td>0.722865</td>\n",
       "      <td>0.458693</td>\n",
       "      <td>0.817904</td>\n",
       "    </tr>\n",
       "    <tr>\n",
       "      <th>Uniformity of Cell Shape</th>\n",
       "      <td>0.654589</td>\n",
       "      <td>0.906882</td>\n",
       "      <td>1.000000</td>\n",
       "      <td>0.683079</td>\n",
       "      <td>0.719668</td>\n",
       "      <td>0.704529</td>\n",
       "      <td>0.735948</td>\n",
       "      <td>0.719446</td>\n",
       "      <td>0.438911</td>\n",
       "      <td>0.818934</td>\n",
       "    </tr>\n",
       "    <tr>\n",
       "      <th>Marginal Adhesion</th>\n",
       "      <td>0.486356</td>\n",
       "      <td>0.705582</td>\n",
       "      <td>0.683079</td>\n",
       "      <td>1.000000</td>\n",
       "      <td>0.599599</td>\n",
       "      <td>0.665723</td>\n",
       "      <td>0.666715</td>\n",
       "      <td>0.603352</td>\n",
       "      <td>0.417633</td>\n",
       "      <td>0.696800</td>\n",
       "    </tr>\n",
       "    <tr>\n",
       "      <th>Single Epithelial Cell Size</th>\n",
       "      <td>0.521816</td>\n",
       "      <td>0.751799</td>\n",
       "      <td>0.719668</td>\n",
       "      <td>0.599599</td>\n",
       "      <td>1.000000</td>\n",
       "      <td>0.582904</td>\n",
       "      <td>0.616102</td>\n",
       "      <td>0.628881</td>\n",
       "      <td>0.479101</td>\n",
       "      <td>0.682785</td>\n",
       "    </tr>\n",
       "    <tr>\n",
       "      <th>Bare Nuclei</th>\n",
       "      <td>0.589296</td>\n",
       "      <td>0.684569</td>\n",
       "      <td>0.704529</td>\n",
       "      <td>0.665723</td>\n",
       "      <td>0.582904</td>\n",
       "      <td>1.000000</td>\n",
       "      <td>0.671545</td>\n",
       "      <td>0.572054</td>\n",
       "      <td>0.342795</td>\n",
       "      <td>0.817653</td>\n",
       "    </tr>\n",
       "    <tr>\n",
       "      <th>Bland Chromatin</th>\n",
       "      <td>0.558428</td>\n",
       "      <td>0.755721</td>\n",
       "      <td>0.735948</td>\n",
       "      <td>0.666715</td>\n",
       "      <td>0.616102</td>\n",
       "      <td>0.671545</td>\n",
       "      <td>1.000000</td>\n",
       "      <td>0.665878</td>\n",
       "      <td>0.344169</td>\n",
       "      <td>0.756616</td>\n",
       "    </tr>\n",
       "    <tr>\n",
       "      <th>Normal Nucleoli</th>\n",
       "      <td>0.535835</td>\n",
       "      <td>0.722865</td>\n",
       "      <td>0.719446</td>\n",
       "      <td>0.603352</td>\n",
       "      <td>0.628881</td>\n",
       "      <td>0.572054</td>\n",
       "      <td>0.665878</td>\n",
       "      <td>1.000000</td>\n",
       "      <td>0.428336</td>\n",
       "      <td>0.712244</td>\n",
       "    </tr>\n",
       "    <tr>\n",
       "      <th>Mitoses</th>\n",
       "      <td>0.350034</td>\n",
       "      <td>0.458693</td>\n",
       "      <td>0.438911</td>\n",
       "      <td>0.417633</td>\n",
       "      <td>0.479101</td>\n",
       "      <td>0.342795</td>\n",
       "      <td>0.344169</td>\n",
       "      <td>0.428336</td>\n",
       "      <td>1.000000</td>\n",
       "      <td>0.423170</td>\n",
       "    </tr>\n",
       "    <tr>\n",
       "      <th>Class</th>\n",
       "      <td>0.716001</td>\n",
       "      <td>0.817904</td>\n",
       "      <td>0.818934</td>\n",
       "      <td>0.696800</td>\n",
       "      <td>0.682785</td>\n",
       "      <td>0.817653</td>\n",
       "      <td>0.756616</td>\n",
       "      <td>0.712244</td>\n",
       "      <td>0.423170</td>\n",
       "      <td>1.000000</td>\n",
       "    </tr>\n",
       "  </tbody>\n",
       "</table>\n",
       "</div>"
      ],
      "text/plain": [
       "                             Clump Thickness  Uniformity of Cell Size  \\\n",
       "Clump Thickness                     1.000000                 0.644913   \n",
       "Uniformity of Cell Size             0.644913                 1.000000   \n",
       "Uniformity of Cell Shape            0.654589                 0.906882   \n",
       "Marginal Adhesion                   0.486356                 0.705582   \n",
       "Single Epithelial Cell Size         0.521816                 0.751799   \n",
       "Bare Nuclei                         0.589296                 0.684569   \n",
       "Bland Chromatin                     0.558428                 0.755721   \n",
       "Normal Nucleoli                     0.535835                 0.722865   \n",
       "Mitoses                             0.350034                 0.458693   \n",
       "Class                               0.716001                 0.817904   \n",
       "\n",
       "                             Uniformity of Cell Shape  Marginal Adhesion  \\\n",
       "Clump Thickness                              0.654589           0.486356   \n",
       "Uniformity of Cell Size                      0.906882           0.705582   \n",
       "Uniformity of Cell Shape                     1.000000           0.683079   \n",
       "Marginal Adhesion                            0.683079           1.000000   \n",
       "Single Epithelial Cell Size                  0.719668           0.599599   \n",
       "Bare Nuclei                                  0.704529           0.665723   \n",
       "Bland Chromatin                              0.735948           0.666715   \n",
       "Normal Nucleoli                              0.719446           0.603352   \n",
       "Mitoses                                      0.438911           0.417633   \n",
       "Class                                        0.818934           0.696800   \n",
       "\n",
       "                             Single Epithelial Cell Size  Bare Nuclei  \\\n",
       "Clump Thickness                                 0.521816     0.589296   \n",
       "Uniformity of Cell Size                         0.751799     0.684569   \n",
       "Uniformity of Cell Shape                        0.719668     0.704529   \n",
       "Marginal Adhesion                               0.599599     0.665723   \n",
       "Single Epithelial Cell Size                     1.000000     0.582904   \n",
       "Bare Nuclei                                     0.582904     1.000000   \n",
       "Bland Chromatin                                 0.616102     0.671545   \n",
       "Normal Nucleoli                                 0.628881     0.572054   \n",
       "Mitoses                                         0.479101     0.342795   \n",
       "Class                                           0.682785     0.817653   \n",
       "\n",
       "                             Bland Chromatin  Normal Nucleoli   Mitoses  \\\n",
       "Clump Thickness                     0.558428         0.535835  0.350034   \n",
       "Uniformity of Cell Size             0.755721         0.722865  0.458693   \n",
       "Uniformity of Cell Shape            0.735948         0.719446  0.438911   \n",
       "Marginal Adhesion                   0.666715         0.603352  0.417633   \n",
       "Single Epithelial Cell Size         0.616102         0.628881  0.479101   \n",
       "Bare Nuclei                         0.671545         0.572054  0.342795   \n",
       "Bland Chromatin                     1.000000         0.665878  0.344169   \n",
       "Normal Nucleoli                     0.665878         1.000000  0.428336   \n",
       "Mitoses                             0.344169         0.428336  1.000000   \n",
       "Class                               0.756616         0.712244  0.423170   \n",
       "\n",
       "                                Class  \n",
       "Clump Thickness              0.716001  \n",
       "Uniformity of Cell Size      0.817904  \n",
       "Uniformity of Cell Shape     0.818934  \n",
       "Marginal Adhesion            0.696800  \n",
       "Single Epithelial Cell Size  0.682785  \n",
       "Bare Nuclei                  0.817653  \n",
       "Bland Chromatin              0.756616  \n",
       "Normal Nucleoli              0.712244  \n",
       "Mitoses                      0.423170  \n",
       "Class                        1.000000  "
      ]
     },
     "execution_count": 248,
     "metadata": {},
     "output_type": "execute_result"
    }
   ],
   "source": [
    "# Checking the correlation between training (data~Class) and test variables (Class)\n",
    "data.corr()"
   ]
  },
  {
   "cell_type": "code",
   "execution_count": 249,
   "id": "441101d5",
   "metadata": {},
   "outputs": [],
   "source": [
    "## Analysis for Clump Thickness"
   ]
  },
  {
   "cell_type": "code",
   "execution_count": 309,
   "id": "8c7acb96",
   "metadata": {
    "scrolled": true
   },
   "outputs": [
    {
     "data": {
      "text/plain": [
       "<seaborn.axisgrid.FacetGrid at 0x1ab77038550>"
      ]
     },
     "execution_count": 309,
     "metadata": {},
     "output_type": "execute_result"
    },
    {
     "data": {
      "image/png": "[encoded data removed]",
      "text/plain": [
       "<Figure size 360x360 with 1 Axes>"
      ]
     },
     "metadata": {
      "needs_background": "light"
     },
     "output_type": "display_data"
    }
   ],
   "source": [
    "sns.catplot(data=data, x=\"Class\", y=\"Clump Thickness\", kind=\"box\")"
   ]
  },
  {
   "cell_type": "code",
   "execution_count": 298,
   "id": "9417b054",
   "metadata": {},
   "outputs": [
    {
     "data": {
      "text/plain": [
       "<seaborn.axisgrid.FacetGrid at 0x1ab7f396910>"
      ]
     },
     "execution_count": 298,
     "metadata": {},
     "output_type": "execute_result"
    },
    {
     "data": {
      "image/png": "[encoded data removed]",
      "text/plain": [
       "<Figure size 360x360 with 1 Axes>"
      ]
     },
     "metadata": {
      "needs_background": "light"
     },
     "output_type": "display_data"
    }
   ],
   "source": [
    "sns.catplot(data=data, x='Class', y='Clump Thickness')"
   ]
  },
  {
   "cell_type": "code",
   "execution_count": 252,
   "id": "065d27f9",
   "metadata": {},
   "outputs": [],
   "source": [
    "## Analysis for Uniformity of Cell Size"
   ]
  },
  {
   "cell_type": "code",
   "execution_count": 308,
   "id": "9101e1c2",
   "metadata": {},
   "outputs": [
    {
     "data": {
      "text/plain": [
       "<seaborn.axisgrid.FacetGrid at 0x1ab78f4ec10>"
      ]
     },
     "execution_count": 308,
     "metadata": {},
     "output_type": "execute_result"
    },
    {
     "data": {
      "image/png": "[encoded data removed]",
      "text/plain": [
       "<Figure size 360x360 with 1 Axes>"
      ]
     },
     "metadata": {
      "needs_background": "light"
     },
     "output_type": "display_data"
    }
   ],
   "source": [
    "sns.catplot(data=data, x=\"Class\", y=\"Uniformity of Cell Size\", kind=\"box\")"
   ]
  },
  {
   "cell_type": "code",
   "execution_count": 310,
   "id": "250b39ff",
   "metadata": {
    "scrolled": true
   },
   "outputs": [
    {
     "data": {
      "text/plain": [
       "<seaborn.axisgrid.FacetGrid at 0x1ab75619d60>"
      ]
     },
     "execution_count": 310,
     "metadata": {},
     "output_type": "execute_result"
    },
    {
     "data": {
      "image/png": "[encoded data removed]",
      "text/plain": [
       "<Figure size 360x360 with 1 Axes>"
      ]
     },
     "metadata": {
      "needs_background": "light"
     },
     "output_type": "display_data"
    }
   ],
   "source": [
    "sns.catplot(data=data, x=\"Class\", y=\"Uniformity of Cell Size\")"
   ]
  },
  {
   "cell_type": "code",
   "execution_count": 254,
   "id": "380bdde3",
   "metadata": {
    "scrolled": true
   },
   "outputs": [
    {
     "data": {
      "text/plain": [
       "<AxesSubplot:xlabel='Uniformity of Cell Size', ylabel='count'>"
      ]
     },
     "execution_count": 254,
     "metadata": {},
     "output_type": "execute_result"
    },
    {
     "data": {
      "image/png": "[encoded data removed]",
      "text/plain": [
       "<Figure size 432x288 with 1 Axes>"
      ]
     },
     "metadata": {
      "needs_background": "light"
     },
     "output_type": "display_data"
    }
   ],
   "source": [
    "sns.countplot(x=data['Uniformity of Cell Size'])"
   ]
  },
  {
   "cell_type": "code",
   "execution_count": 318,
   "id": "6aa417cb",
   "metadata": {},
   "outputs": [
    {
     "data": {
      "text/plain": [
       "<AxesSubplot:xlabel='Uniformity of Cell Size', ylabel='Count'>"
      ]
     },
     "execution_count": 318,
     "metadata": {},
     "output_type": "execute_result"
    },
    {
     "data": {
      "image/png": "[encoded data removed]",
      "text/plain": [
       "<Figure size 432x288 with 1 Axes>"
      ]
     },
     "metadata": {
      "needs_background": "light"
     },
     "output_type": "display_data"
    }
   ],
   "source": [
    "sns.histplot(x=data['Uniformity of Cell Size'], kde = True)"
   ]
  },
  {
   "cell_type": "code",
   "execution_count": 255,
   "id": "ae1f0f70",
   "metadata": {},
   "outputs": [],
   "source": [
    "## Analysis for Uniformity of Cell Shape"
   ]
  },
  {
   "cell_type": "code",
   "execution_count": 307,
   "id": "f1eb65a2",
   "metadata": {},
   "outputs": [
    {
     "data": {
      "text/plain": [
       "<seaborn.axisgrid.FacetGrid at 0x1ab7d4a88e0>"
      ]
     },
     "execution_count": 307,
     "metadata": {},
     "output_type": "execute_result"
    },
    {
     "data": {
      "image/png": "[encoded data removed]",
      "text/plain": [
       "<Figure size 360x360 with 1 Axes>"
      ]
     },
     "metadata": {
      "needs_background": "light"
     },
     "output_type": "display_data"
    }
   ],
   "source": [
    "sns.catplot(data=data, x=\"Class\", y=\"Uniformity of Cell Shape\", kind=\"box\")"
   ]
  },
  {
   "cell_type": "code",
   "execution_count": 311,
   "id": "64f4afe5",
   "metadata": {},
   "outputs": [
    {
     "data": {
      "text/plain": [
       "<seaborn.axisgrid.FacetGrid at 0x1ab7d86e730>"
      ]
     },
     "execution_count": 311,
     "metadata": {},
     "output_type": "execute_result"
    },
    {
     "data": {
      "image/png": "[encoded data removed]",
      "text/plain": [
       "<Figure size 360x360 with 1 Axes>"
      ]
     },
     "metadata": {
      "needs_background": "light"
     },
     "output_type": "display_data"
    }
   ],
   "source": [
    "sns.catplot(data=data, x=\"Class\", y=\"Uniformity of Cell Shape\")"
   ]
  },
  {
   "cell_type": "code",
   "execution_count": 257,
   "id": "abccfc2a",
   "metadata": {},
   "outputs": [
    {
     "data": {
      "text/plain": [
       "<AxesSubplot:xlabel='Uniformity of Cell Shape', ylabel='count'>"
      ]
     },
     "execution_count": 257,
     "metadata": {},
     "output_type": "execute_result"
    },
    {
     "data": {
      "image/png": "[encoded data removed]",
      "text/plain": [
       "<Figure size 432x288 with 1 Axes>"
      ]
     },
     "metadata": {
      "needs_background": "light"
     },
     "output_type": "display_data"
    }
   ],
   "source": [
    "sns.countplot(x=data['Uniformity of Cell Shape'])"
   ]
  },
  {
   "cell_type": "code",
   "execution_count": 258,
   "id": "9ed16786",
   "metadata": {},
   "outputs": [],
   "source": [
    "## Analysis for Marginal Adhesion"
   ]
  },
  {
   "cell_type": "code",
   "execution_count": 306,
   "id": "0389df6a",
   "metadata": {},
   "outputs": [
    {
     "data": {
      "text/plain": [
       "<seaborn.axisgrid.FacetGrid at 0x1ab74d45a30>"
      ]
     },
     "execution_count": 306,
     "metadata": {},
     "output_type": "execute_result"
    },
    {
     "data": {
      "image/png": "[encoded data removed]",
      "text/plain": [
       "<Figure size 360x360 with 1 Axes>"
      ]
     },
     "metadata": {
      "needs_background": "light"
     },
     "output_type": "display_data"
    }
   ],
   "source": [
    "sns.catplot(data=data, x=\"Class\", y=\"Marginal Adhesion\", kind=\"box\")"
   ]
  },
  {
   "cell_type": "code",
   "execution_count": 312,
   "id": "b9e632bb",
   "metadata": {},
   "outputs": [
    {
     "data": {
      "text/plain": [
       "<seaborn.axisgrid.FacetGrid at 0x1ab751390a0>"
      ]
     },
     "execution_count": 312,
     "metadata": {},
     "output_type": "execute_result"
    },
    {
     "data": {
      "image/png": "[encoded data removed]",
      "text/plain": [
       "<Figure size 360x360 with 1 Axes>"
      ]
     },
     "metadata": {
      "needs_background": "light"
     },
     "output_type": "display_data"
    }
   ],
   "source": [
    "sns.catplot(data=data, x=\"Class\", y=\"Marginal Adhesion\")"
   ]
  },
  {
   "cell_type": "code",
   "execution_count": 261,
   "id": "8512748d",
   "metadata": {},
   "outputs": [
    {
     "data": {
      "text/plain": [
       "<AxesSubplot:xlabel='Marginal Adhesion', ylabel='count'>"
      ]
     },
     "execution_count": 261,
     "metadata": {},
     "output_type": "execute_result"
    },
    {
     "data": {
      "image/png": "[encoded data removed]",
      "text/plain": [
       "<Figure size 432x288 with 1 Axes>"
      ]
     },
     "metadata": {
      "needs_background": "light"
     },
     "output_type": "display_data"
    }
   ],
   "source": [
    "sns.countplot(x=data['Marginal Adhesion'])"
   ]
  },
  {
   "cell_type": "code",
   "execution_count": 262,
   "id": "af3aa10c",
   "metadata": {},
   "outputs": [],
   "source": [
    "## Analysis for Single Epithelial Cell Size"
   ]
  },
  {
   "cell_type": "code",
   "execution_count": 305,
   "id": "10f4ff19",
   "metadata": {},
   "outputs": [
    {
     "data": {
      "text/plain": [
       "<seaborn.axisgrid.FacetGrid at 0x1ab76bc41c0>"
      ]
     },
     "execution_count": 305,
     "metadata": {},
     "output_type": "execute_result"
    },
    {
     "data": {
      "image/png": "[encoded data removed]",
      "text/plain": [
       "<Figure size 360x360 with 1 Axes>"
      ]
     },
     "metadata": {
      "needs_background": "light"
     },
     "output_type": "display_data"
    }
   ],
   "source": [
    "sns.catplot(data=data, x=\"Class\", y=\"Single Epithelial Cell Size\", kind=\"box\")"
   ]
  },
  {
   "cell_type": "code",
   "execution_count": 313,
   "id": "e2bb2b04",
   "metadata": {},
   "outputs": [
    {
     "data": {
      "text/plain": [
       "<seaborn.axisgrid.FacetGrid at 0x1ab7deed340>"
      ]
     },
     "execution_count": 313,
     "metadata": {},
     "output_type": "execute_result"
    },
    {
     "data": {
      "image/png": "[encoded data removed]",
      "text/plain": [
       "<Figure size 360x360 with 1 Axes>"
      ]
     },
     "metadata": {
      "needs_background": "light"
     },
     "output_type": "display_data"
    }
   ],
   "source": [
    "sns.catplot(data=data, x=\"Class\", y=\"Single Epithelial Cell Size\")"
   ]
  },
  {
   "cell_type": "code",
   "execution_count": 265,
   "id": "259dbb8c",
   "metadata": {},
   "outputs": [
    {
     "data": {
      "text/plain": [
       "<AxesSubplot:xlabel='Single Epithelial Cell Size', ylabel='count'>"
      ]
     },
     "execution_count": 265,
     "metadata": {},
     "output_type": "execute_result"
    },
    {
     "data": {
      "image/png": "[encoded data removed]",
      "text/plain": [
       "<Figure size 432x288 with 1 Axes>"
      ]
     },
     "metadata": {
      "needs_background": "light"
     },
     "output_type": "display_data"
    }
   ],
   "source": [
    "sns.countplot(x=data['Single Epithelial Cell Size'])"
   ]
  },
  {
   "cell_type": "code",
   "execution_count": 266,
   "id": "82237cdb",
   "metadata": {},
   "outputs": [],
   "source": [
    "## Analysis for Bare Nuclei"
   ]
  },
  {
   "cell_type": "code",
   "execution_count": 304,
   "id": "e66ecf3e",
   "metadata": {},
   "outputs": [
    {
     "data": {
      "text/plain": [
       "<seaborn.axisgrid.FacetGrid at 0x1ab76e0f4f0>"
      ]
     },
     "execution_count": 304,
     "metadata": {},
     "output_type": "execute_result"
    },
    {
     "data": {
      "image/png": "[encoded data removed]",
      "text/plain": [
       "<Figure size 360x360 with 1 Axes>"
      ]
     },
     "metadata": {
      "needs_background": "light"
     },
     "output_type": "display_data"
    }
   ],
   "source": [
    "sns.catplot(data=data, x=\"Class\", y=\"Bare Nuclei\", kind=\"box\")"
   ]
  },
  {
   "cell_type": "code",
   "execution_count": 314,
   "id": "c5ad3ecb",
   "metadata": {},
   "outputs": [
    {
     "data": {
      "text/plain": [
       "<seaborn.axisgrid.FacetGrid at 0x1ab756153a0>"
      ]
     },
     "execution_count": 314,
     "metadata": {},
     "output_type": "execute_result"
    },
    {
     "data": {
      "image/png": "[encoded data removed]",
      "text/plain": [
       "<Figure size 360x360 with 1 Axes>"
      ]
     },
     "metadata": {
      "needs_background": "light"
     },
     "output_type": "display_data"
    }
   ],
   "source": [
    "sns.catplot(data=data, x=\"Class\", y=\"Bare Nuclei\")"
   ]
  },
  {
   "cell_type": "code",
   "execution_count": 268,
   "id": "f5cae9cf",
   "metadata": {
    "scrolled": true
   },
   "outputs": [
    {
     "data": {
      "text/plain": [
       "<AxesSubplot:xlabel='Bare Nuclei', ylabel='count'>"
      ]
     },
     "execution_count": 268,
     "metadata": {},
     "output_type": "execute_result"
    },
    {
     "data": {
      "image/png": "[encoded data removed]",
      "text/plain": [
       "<Figure size 432x288 with 1 Axes>"
      ]
     },
     "metadata": {
      "needs_background": "light"
     },
     "output_type": "display_data"
    }
   ],
   "source": [
    "sns.countplot(x=data['Bare Nuclei'])"
   ]
  },
  {
   "cell_type": "code",
   "execution_count": 269,
   "id": "4aa0e152",
   "metadata": {},
   "outputs": [],
   "source": [
    "## Analysis for Bland Chromatin"
   ]
  },
  {
   "cell_type": "code",
   "execution_count": 303,
   "id": "1a211104",
   "metadata": {},
   "outputs": [
    {
     "data": {
      "text/plain": [
       "<seaborn.axisgrid.FacetGrid at 0x1ab75716910>"
      ]
     },
     "execution_count": 303,
     "metadata": {},
     "output_type": "execute_result"
    },
    {
     "data": {
      "image/png": "[encoded data removed]",
      "text/plain": [
       "<Figure size 360x360 with 1 Axes>"
      ]
     },
     "metadata": {
      "needs_background": "light"
     },
     "output_type": "display_data"
    }
   ],
   "source": [
    "sns.catplot(data=data, x=\"Class\", y=\"Bland Chromatin\", kind=\"box\")"
   ]
  },
  {
   "cell_type": "code",
   "execution_count": 315,
   "id": "d7dd2a47",
   "metadata": {},
   "outputs": [
    {
     "data": {
      "text/plain": [
       "<seaborn.axisgrid.FacetGrid at 0x1ab7fb3d670>"
      ]
     },
     "execution_count": 315,
     "metadata": {},
     "output_type": "execute_result"
    },
    {
     "data": {
      "image/png": "[encoded data removed]",
      "text/plain": [
       "<Figure size 360x360 with 1 Axes>"
      ]
     },
     "metadata": {
      "needs_background": "light"
     },
     "output_type": "display_data"
    }
   ],
   "source": [
    "sns.catplot(data=data, x=\"Class\", y=\"Bland Chromatin\")"
   ]
  },
  {
   "cell_type": "code",
   "execution_count": 272,
   "id": "bbf4009d",
   "metadata": {},
   "outputs": [
    {
     "data": {
      "text/plain": [
       "<AxesSubplot:xlabel='Bland Chromatin', ylabel='count'>"
      ]
     },
     "execution_count": 272,
     "metadata": {},
     "output_type": "execute_result"
    },
    {
     "data": {
      "image/png": "[encoded data removed]",
      "text/plain": [
       "<Figure size 432x288 with 1 Axes>"
      ]
     },
     "metadata": {
      "needs_background": "light"
     },
     "output_type": "display_data"
    }
   ],
   "source": [
    "sns.countplot(x=data['Bland Chromatin'])"
   ]
  },
  {
   "cell_type": "code",
   "execution_count": 273,
   "id": "d44341b3",
   "metadata": {},
   "outputs": [],
   "source": [
    "## Analysis for Normal Nucleoli"
   ]
  },
  {
   "cell_type": "code",
   "execution_count": 302,
   "id": "46409a3a",
   "metadata": {},
   "outputs": [
    {
     "data": {
      "text/plain": [
       "<seaborn.axisgrid.FacetGrid at 0x1ab76e23f10>"
      ]
     },
     "execution_count": 302,
     "metadata": {},
     "output_type": "execute_result"
    },
    {
     "data": {
      "image/png": "[encoded data removed]",
      "text/plain": [
       "<Figure size 360x360 with 1 Axes>"
      ]
     },
     "metadata": {
      "needs_background": "light"
     },
     "output_type": "display_data"
    }
   ],
   "source": [
    "sns.catplot(data=data, x=\"Class\", y=\"Normal Nucleoli\", kind=\"box\")"
   ]
  },
  {
   "cell_type": "code",
   "execution_count": 316,
   "id": "09018cb8",
   "metadata": {},
   "outputs": [
    {
     "data": {
      "text/plain": [
       "<seaborn.axisgrid.FacetGrid at 0x1ab7992ed60>"
      ]
     },
     "execution_count": 316,
     "metadata": {},
     "output_type": "execute_result"
    },
    {
     "data": {
      "image/png": "[encoded data removed]",
      "text/plain": [
       "<Figure size 360x360 with 1 Axes>"
      ]
     },
     "metadata": {
      "needs_background": "light"
     },
     "output_type": "display_data"
    }
   ],
   "source": [
    "sns.catplot(data=data, x=\"Class\", y=\"Normal Nucleoli\")"
   ]
  },
  {
   "cell_type": "code",
   "execution_count": 276,
   "id": "88c1f7c9",
   "metadata": {},
   "outputs": [
    {
     "data": {
      "text/plain": [
       "<AxesSubplot:xlabel='Normal Nucleoli', ylabel='count'>"
      ]
     },
     "execution_count": 276,
     "metadata": {},
     "output_type": "execute_result"
    },
    {
     "data": {
      "image/png": "[encoded data removed]",
      "text/plain": [
       "<Figure size 432x288 with 1 Axes>"
      ]
     },
     "metadata": {
      "needs_background": "light"
     },
     "output_type": "display_data"
    }
   ],
   "source": [
    "sns.countplot(x=data['Normal Nucleoli'])"
   ]
  },
  {
   "cell_type": "code",
   "execution_count": 277,
   "id": "91980de6",
   "metadata": {},
   "outputs": [],
   "source": [
    "## Analysis for Mitoses"
   ]
  },
  {
   "cell_type": "code",
   "execution_count": 300,
   "id": "dd8d61ef",
   "metadata": {
    "scrolled": true
   },
   "outputs": [
    {
     "data": {
      "text/plain": [
       "<seaborn.axisgrid.FacetGrid at 0x1ab75212250>"
      ]
     },
     "execution_count": 300,
     "metadata": {},
     "output_type": "execute_result"
    },
    {
     "data": {
      "image/png": "[encoded data removed]",
      "text/plain": [
       "<Figure size 360x360 with 1 Axes>"
      ]
     },
     "metadata": {
      "needs_background": "light"
     },
     "output_type": "display_data"
    }
   ],
   "source": [
    "sns.catplot(data=data, x=\"Class\", y=\"Mitoses\", kind=\"box\")\n",
    "# All the data points other than 1 can be considered as outliers "
   ]
  },
  {
   "cell_type": "code",
   "execution_count": 317,
   "id": "48dc3405",
   "metadata": {},
   "outputs": [
    {
     "data": {
      "text/plain": [
       "<seaborn.axisgrid.FacetGrid at 0x1ab7f69d4f0>"
      ]
     },
     "execution_count": 317,
     "metadata": {},
     "output_type": "execute_result"
    },
    {
     "data": {
      "image/png": "[encoded data removed]",
      "text/plain": [
       "<Figure size 360x360 with 1 Axes>"
      ]
     },
     "metadata": {
      "needs_background": "light"
     },
     "output_type": "display_data"
    }
   ],
   "source": [
    "sns.catplot(data=data, x=\"Class\", y=\"Mitoses\")"
   ]
  },
  {
   "cell_type": "code",
   "execution_count": 280,
   "id": "228c8eab",
   "metadata": {
    "scrolled": true
   },
   "outputs": [
    {
     "data": {
      "text/plain": [
       "<AxesSubplot:xlabel='Mitoses', ylabel='count'>"
      ]
     },
     "execution_count": 280,
     "metadata": {},
     "output_type": "execute_result"
    },
    {
     "data": {
      "image/png": "[encoded data removed]",
      "text/plain": [
       "<Figure size 432x288 with 1 Axes>"
      ]
     },
     "metadata": {
      "needs_background": "light"
     },
     "output_type": "display_data"
    }
   ],
   "source": [
    "# Based on the graph above and the countplot below we can say that Mitosis is a highly biased variable. \n",
    "sns.countplot(x=data['Mitoses'])"
   ]
  },
  {
   "cell_type": "code",
   "execution_count": 281,
   "id": "c0633c9f",
   "metadata": {},
   "outputs": [],
   "source": [
    "# Theory behind choosing the model\n",
    "\n",
    "# Normally because the data is quite simple we could've choosen the Binary Logistic Regression Model as its the most \n",
    "# simple model for Classification type problems. However, becuase of identifiying so many outliers in the dataset and \n",
    "# not having a relatively large dataset, I belive SVM would be a better fit and would provide with more accurate predictions."
   ]
  },
  {
   "cell_type": "code",
   "execution_count": 282,
   "id": "17fbe72b",
   "metadata": {},
   "outputs": [],
   "source": [
    "from sklearn.svm import SVC\n",
    "from sklearn import model_selection\n",
    "from sklearn.utils import class_weight\n",
    "from sklearn.metrics import classification_report\n",
    "from sklearn.metrics import confusion_matrix"
   ]
  },
  {
   "cell_type": "code",
   "execution_count": 283,
   "id": "be5b47b7",
   "metadata": {},
   "outputs": [
    {
     "name": "stdout",
     "output_type": "stream",
     "text": [
      "p-values\n",
      " [0. 0. 0. 0. 0. 0. 0. 0. 0. 0.]\n",
      "rejecting null hypothesis based on the results HA\n"
     ]
    }
   ],
   "source": [
    "# Lets start by testing the null hypothesis\n",
    "from scipy.stats import ttest_1samp\n",
    "tset, p = ttest_1samp(data, 30)\n",
    "print(\"p-values\\n\",p)\n",
    "if p.all() < 0.05:    # alpha value is 0.05 or 5%\n",
    "   print(\"rejecting null hypothesis based on the results HA\")\n",
    "else:\n",
    "  print(\"accepting null hypothesis based on the results H0\")"
   ]
  },
  {
   "cell_type": "code",
   "execution_count": 284,
   "id": "0f259dd2",
   "metadata": {},
   "outputs": [],
   "source": [
    "# Note: Based on the analysis above we can choose to exclude Mitoses from the data but it wont have significant effect either way \n",
    "# as the data indicates it to be 1 for almost every case it has very low correlation with the dataset and will not have significant \n",
    "# affect on the predictions.\n",
    "\n",
    "# Splitting the data 75:25\n",
    "from sklearn.model_selection import train_test_split\n",
    "X = data.drop(columns = ['Class'])\n",
    "y = data.Class\n",
    "X_train, X_test, y_train, y_test = train_test_split(X, y, test_size=0.25, random_state=8675309)"
   ]
  },
  {
   "cell_type": "code",
   "execution_count": 285,
   "id": "cdca8ff5",
   "metadata": {},
   "outputs": [
    {
     "name": "stdout",
     "output_type": "stream",
     "text": [
      "Training Accuracy:  0.9656488549618321\n",
      "\n",
      "Test Accuracy:  0.9714285714285714\n"
     ]
    }
   ],
   "source": [
    "# In the Support Vector Machine model the significance of parameter C is quite similar to what we achive by regularization. \n",
    "# It helps us decide how much value or significance should we provide to outliers\n",
    "\n",
    "model = SVC(C=0.052)\n",
    "model.fit(X_train, y_train)\n",
    "y_pred = model.predict(X_test)\n",
    "score = model.score(X_test, y_test)\n",
    "print('Training Accuracy: ', model.score(X_train,y_train))\n",
    "print('\\nTest Accuracy: ',score)"
   ]
  },
  {
   "cell_type": "code",
   "execution_count": 286,
   "id": "c4dc0259",
   "metadata": {},
   "outputs": [
    {
     "name": "stdout",
     "output_type": "stream",
     "text": [
      "                            OLS Regression Results                            \n",
      "==============================================================================\n",
      "Dep. Variable:                  Class   R-squared:                       0.839\n",
      "Model:                            OLS   Adj. R-squared:                  0.837\n",
      "Method:                 Least Squares   F-statistic:                     398.5\n",
      "Date:                Thu, 13 Oct 2022   Prob (F-statistic):          2.79e-266\n",
      "Time:                        23:31:32   Log-Likelihood:                -318.43\n",
      "No. Observations:                 699   AIC:                             656.9\n",
      "Df Residuals:                     689   BIC:                             702.4\n",
      "Df Model:                           9                                         \n",
      "Covariance Type:            nonrobust                                         \n",
      "===============================================================================================\n",
      "                                  coef    std err          t      P>|t|      [0.025      0.975]\n",
      "-----------------------------------------------------------------------------------------------\n",
      "const                           1.5096      0.033     46.006      0.000       1.445       1.574\n",
      "Clump Thickness                 0.0641      0.007      8.969      0.000       0.050       0.078\n",
      "Uniformity of Cell Size         0.0444      0.013      3.473      0.001       0.019       0.070\n",
      "Uniformity of Cell Shape        0.0342      0.012      2.740      0.006       0.010       0.059\n",
      "Marginal Adhesion               0.0112      0.008      1.408      0.160      -0.004       0.027\n",
      "Single Epithelial Cell Size     0.0144      0.010      1.369      0.171      -0.006       0.035\n",
      "Bare Nuclei                     0.0919      0.006     14.497      0.000       0.079       0.104\n",
      "Bland Chromatin                 0.0416      0.010      4.117      0.000       0.022       0.061\n",
      "Normal Nucleoli                 0.0354      0.007      4.755      0.000       0.021       0.050\n",
      "Mitoses                         0.0047      0.010      0.475      0.635      -0.015       0.024\n",
      "==============================================================================\n",
      "Omnibus:                       83.473   Durbin-Watson:                   1.820\n",
      "Prob(Omnibus):                  0.000   Jarque-Bera (JB):              444.714\n",
      "Skew:                           0.372   Prob(JB):                     2.70e-97\n",
      "Kurtosis:                       6.836   Cond. No.                         27.4\n",
      "==============================================================================\n",
      "\n",
      "Notes:\n",
      "[1] Standard Errors assume that the covariance matrix of the errors is correctly specified.\n"
     ]
    }
   ],
   "source": [
    "# Checking the R2 and P val to uunderstand if there is over or underfitting in the model due to high accuracies achieved\n",
    "import statsmodels.api as sm\n",
    "\n",
    "\n",
    "X_ = sm.add_constant(X)\n",
    "# Finds the corr to achieve the p-value and R^2 score for us to get an estimate on our relations used.\n",
    "est = sm.OLS(y, X_)\n",
    "print(est.fit().summary())"
   ]
  },
  {
   "cell_type": "code",
   "execution_count": 287,
   "id": "86f50836",
   "metadata": {
    "scrolled": true
   },
   "outputs": [
    {
     "name": "stdout",
     "output_type": "stream",
     "text": [
      "Mean Squared Error: 0.11428571428571428\n"
     ]
    }
   ],
   "source": [
    "# Checking the mse to better understand the difference between obs vs pred val \n",
    "from sklearn.metrics import mean_squared_error\n",
    "print(\"Mean Squared Error:\",mean_squared_error(y_test, y_pred))"
   ]
  },
  {
   "cell_type": "code",
   "execution_count": 288,
   "id": "a94bb760",
   "metadata": {},
   "outputs": [
    {
     "name": "stdout",
     "output_type": "stream",
     "text": [
      "avg_expected_loss: 0.11462857142857144 \n",
      "avergae bias: 0.11429085714285715 \n",
      "average variance: 0.0003377142857142857\n"
     ]
    }
   ],
   "source": [
    "from mlxtend.evaluate import bias_variance_decomp\n",
    "avg_expected_loss, avg_bias, avg_var = bias_variance_decomp(\n",
    "        model, X_train.values, y_train.values, X_test.values, y_test.values, \n",
    "        loss='mse',\n",
    "        random_seed=123)\n",
    "print('avg_expected_loss:',avg_expected_loss,\"\\navergae bias:\", avg_bias,\"\\naverage variance:\", avg_var)"
   ]
  },
  {
   "cell_type": "code",
   "execution_count": 289,
   "id": "c686c03a",
   "metadata": {
    "scrolled": true
   },
   "outputs": [
    {
     "name": "stdout",
     "output_type": "stream",
     "text": [
      "Accuracy Mean: 0.9670600414078674 \n",
      "Std: 0.015843704746065602\n"
     ]
    }
   ],
   "source": [
    "# Cross Validating the results\n",
    "# Cross validation results are in the same ball park as the observed accuracy\n",
    "from sklearn.model_selection import KFold\n",
    "from sklearn.model_selection import cross_val_score\n",
    "cv = KFold(n_splits=10, random_state=1, shuffle=True)\n",
    "scores = cross_val_score(model, X, y, scoring='accuracy', cv=cv, n_jobs=-1)\n",
    "print('Accuracy Mean:',np.mean(scores),'\\nStd:', np.std(scores))"
   ]
  },
  {
   "cell_type": "code",
   "execution_count": 290,
   "id": "9b544648",
   "metadata": {},
   "outputs": [
    {
     "data": {
      "text/plain": [
       "[Text(0, 0.5, 'Class 2'), Text(0, 1.5, 'Class 4')]"
      ]
     },
     "execution_count": 290,
     "metadata": {},
     "output_type": "execute_result"
    },
    {
     "data": {
      "image/png": "[encoded data removed]",
      "text/plain": [
       "<Figure size 432x288 with 2 Axes>"
      ]
     },
     "metadata": {
      "needs_background": "light"
     },
     "output_type": "display_data"
    }
   ],
   "source": [
    "# Visualize the model results to understand the number of false positive and true negatives in the predictions\n",
    "ax = plt.subplot()\n",
    "sns.heatmap(confusion_matrix(y_test, y_pred),annot=True, fmt='g', ax=ax)\n",
    "ax.set_xlabel('Predicted labels')\n",
    "ax.set_ylabel('True labels')\n",
    "ax.set_title('Confusion Matrix')\n",
    "ax.xaxis.set_ticklabels(['Class 4', 'Class 2'])\n",
    "ax.yaxis.set_ticklabels(['Class 2', 'Class 4'])"
   ]
  },
  {
   "cell_type": "markdown",
   "id": "d02ba0af",
   "metadata": {},
   "source": [
    "# Conclusion"
   ]
  },
  {
   "cell_type": "code",
   "execution_count": 291,
   "id": "e25729cf",
   "metadata": {
    "collapsed": true
   },
   "outputs": [
    {
     "data": {
      "text/plain": [
       "\"\\nThe observed data is more favoured towards biopsied breast cell being benign than malignant (cancerous). We did found \\noutliers in the data as well. However, after careful analysis we conclude that they dont have significant correaltion with our \\ntarget variable and hence we may include it. But if need be i.e. if we had to regularize the model due to overfitting we could've \\nremoved the variable out of the training dataset. The variables that significantly affect the target variables based on box plots \\nand correlation values are Uniformity of Cell Size, Bare Nuclei, and Bland Chromatin. \\n\\nThe data is not very biased as we did not had to perform any feature engineering\\nto achieve significantly high accuracy, rather just selecting the appropriate model was the key. After checking the bias, variance,\\n, mse, r score as well as p value we can conclude that the data is not overfitted and has performed fine on both test and train \\ndataset.\\n\\nWe achieved 97.14% test accuracy and 96.42% accuracy after validation.\\n\""
      ]
     },
     "execution_count": 291,
     "metadata": {},
     "output_type": "execute_result"
    }
   ],
   "source": [
    "'''\n",
    "The observed data is more favoured towards biopsied breast cell being benign than malignant (cancerous). We did found \n",
    "outliers in the data as well. However, after careful analysis we conclude that they dont have significant correaltion with our \n",
    "target variable and hence we may include it. But if need be i.e. if we had to regularize the model due to overfitting we could've \n",
    "removed the variable out of the training dataset. The variables that significantly affect the target variables based on box plots \n",
    "and correlation values are Uniformity of Cell Size, Bare Nuclei, and Bland Chromatin. \n",
    "\n",
    "The data is not very biased as we did not had to perform any feature engineering\n",
    "to achieve significantly high accuracy, rather just selecting the appropriate model was the key. After checking the bias, variance,\n",
    ", mse, r score as well as p value we can conclude that the data is not overfitted and has performed fine on both test and train \n",
    "dataset.\n",
    "\n",
    "We achieved 97.14% test accuracy and 96.42% accuracy after validation.\n",
    "'''"
   ]
  }
 ],
 "metadata": {
  "kernelspec": {
   "display_name": "Python 3",
   "language": "python",
   "name": "python3"
  },
  "language_info": {
   "codemirror_mode": {
    "name": "ipython",
    "version": 3
   },
   "file_extension": ".py",
   "mimetype": "text/x-python",
   "name": "python",
   "nbconvert_exporter": "python",
   "pygments_lexer": "ipython3",
   "version": "3.8.8"
  }
 },
 "nbformat": 4,
 "nbformat_minor": 5
}
